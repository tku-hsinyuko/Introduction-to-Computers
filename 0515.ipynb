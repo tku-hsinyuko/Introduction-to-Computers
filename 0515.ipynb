{
  "nbformat": 4,
  "nbformat_minor": 0,
  "metadata": {
    "colab": {
      "provenance": [],
      "authorship_tag": "ABX9TyOX5CO/QzN80aPXBXFoFK/x",
      "include_colab_link": true
    },
    "kernelspec": {
      "name": "python3",
      "display_name": "Python 3"
    },
    "language_info": {
      "name": "python"
    }
  },
  "cells": [
    {
      "cell_type": "markdown",
      "metadata": {
        "id": "view-in-github",
        "colab_type": "text"
      },
      "source": [
        "<a href=\"https://colab.research.google.com/github/tku-hsinyuko/Introduction-to-Computers/blob/main/0515.ipynb\" target=\"_parent\"><img src=\"https://colab.research.google.com/assets/colab-badge.svg\" alt=\"Open In Colab\"/></a>"
      ]
    },
    {
      "cell_type": "code",
      "execution_count": null,
      "metadata": {
        "colab": {
          "base_uri": "https://localhost:8080/"
        },
        "id": "HV7_WVAfQewA",
        "outputId": "89c10126-b151-42c2-ebfd-ac13b3ceef42"
      },
      "outputs": [
        {
          "output_type": "stream",
          "name": "stdout",
          "text": [
            "0515\n"
          ]
        }
      ],
      "source": [
        "print(\"0515\")"
      ]
    },
    {
      "cell_type": "code",
      "source": [
        "while True:\n",
        "  rain = input(\"請輸入Y或N:\")\n",
        "  if rain.lower()==\"y\" or rain.lower()==\"n\":\n",
        "    print(\"出門記得帶傘\")\n",
        "    break\n",
        "  else:\n",
        "    print(\"請重新輸入\")"
      ],
      "metadata": {
        "colab": {
          "base_uri": "https://localhost:8080/"
        },
        "id": "EjWsPurbxX9r",
        "outputId": "91436aaf-2757-40b2-8d2b-9292d588c0b0"
      },
      "execution_count": 10,
      "outputs": [
        {
          "output_type": "stream",
          "name": "stdout",
          "text": [
            "請輸入Y或N:m\n",
            "請重新輸入\n",
            "請輸入Y或N:Y\n",
            "出門記得帶傘\n"
          ]
        }
      ]
    },
    {
      "cell_type": "code",
      "source": [
        "temperature = float(input(\"請輸入體溫:\"))\n",
        "if temperature >= 37.5:\n",
        "  print(\"體溫過高!\")\n",
        "elif temperature >= 37 and temperature < 37.5:\n",
        "  print(\"體溫略高!\")\n",
        "elif temperature >= 34 and temperature < 37:\n",
        "  print(\"體溫正常!\")\n",
        "else:\n",
        "  print(\"體溫異常，請重新輸入\")"
      ],
      "metadata": {
        "colab": {
          "base_uri": "https://localhost:8080/"
        },
        "id": "lIRpOekRrMYw",
        "outputId": "632db272-1aa5-4312-bdab-b708fe041aff"
      },
      "execution_count": 8,
      "outputs": [
        {
          "output_type": "stream",
          "name": "stdout",
          "text": [
            "請輸入體溫:33\n",
            "體溫異常，請重新輸入\n"
          ]
        }
      ]
    },
    {
      "cell_type": "code",
      "source": [
        "score = int(input(\"score: \"))\n",
        "if score >= 90:\n",
        "    print('Grade is: A')\n",
        "elif score >= 80:\n",
        "    print('Grade is: B')\n",
        "elif score >= 70:\n",
        "    print('Grade is: C')\n",
        "elif score >= 60:\n",
        "    print('Grade is: D')\n",
        "else:\n",
        "    print('Grade is: E')"
      ],
      "metadata": {
        "colab": {
          "base_uri": "https://localhost:8080/"
        },
        "id": "N1EL6zXuyaXY",
        "outputId": "a0dc3167-de14-4fa8-bd7e-515232b06744"
      },
      "execution_count": 12,
      "outputs": [
        {
          "output_type": "stream",
          "name": "stdout",
          "text": [
            "score: 39\n",
            "Grade is: E\n"
          ]
        }
      ]
    },
    {
      "cell_type": "code",
      "source": [
        "month = int(input(\"請輸入月份\"))\n",
        "if month == 3 or month == 4 or month ==5:\n",
        "  print(str(month)+\"月是春天\")\n",
        "elif month == 6 or month == 7 or month ==8:\n",
        "  print(str(month)+\"月是夏天\")\n",
        "elif month == 9 or month == 10 or month ==11:\n",
        "  print(str(month)+\"月是秋天\")\n",
        "elif month == 12 or month == 1 or month == 2:\n",
        "  print(str(month)+\"月是冬天\")\n",
        "else:\n",
        "  print(\"月份不在範圍內\")"
      ],
      "metadata": {
        "colab": {
          "base_uri": "https://localhost:8080/"
        },
        "id": "Kv2isab6y4Y_",
        "outputId": "f6644626-8112-4d0f-a042-acb381f08166"
      },
      "execution_count": 16,
      "outputs": [
        {
          "output_type": "stream",
          "name": "stdout",
          "text": [
            "請輸入月份5\n",
            "5月是春天\n"
          ]
        }
      ]
    },
    {
      "cell_type": "code",
      "source": [
        "income = float(input(\"請輸入今年收入淨額:\"))\n",
        "if income >= 2000000:\n",
        "  tax_rate = 0.3\n",
        "elif income >= 1000000:\n",
        "  tax_rate = 0.21\n",
        "elif income >= 600000:\n",
        "  tax_rate = 0.13\n",
        "elif income >= 300000:\n",
        "  tax_rate = 0.06\n",
        "else:\n",
        "  tax_rate = 0\n",
        "tax_amout = income * tax_rate\n",
        "print(\"付稅金額為:\"+str(tax_amout))"
      ],
      "metadata": {
        "colab": {
          "base_uri": "https://localhost:8080/"
        },
        "id": "aSC-Cdk93RJo",
        "outputId": "a9a83f1d-fd87-491c-be0b-36079545fa32"
      },
      "execution_count": 19,
      "outputs": [
        {
          "output_type": "stream",
          "name": "stdout",
          "text": [
            "請輸入今年收入淨額:1000000\n",
            "付稅金額為:210000.0\n"
          ]
        }
      ]
    }
  ]
}